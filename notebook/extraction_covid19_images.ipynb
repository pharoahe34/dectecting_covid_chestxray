{
 "cells": [
  {
   "cell_type": "code",
   "execution_count": 42,
   "metadata": {},
   "outputs": [
    {
     "name": "stdout",
     "output_type": "stream",
     "text": [
      "<class 'pandas.core.frame.DataFrame'>\n",
      "RangeIndex: 422 entries, 0 to 421\n",
      "Data columns (total 29 columns):\n",
      " #   Column                  Non-Null Count  Dtype  \n",
      "---  ------                  --------------  -----  \n",
      " 0   patientid               422 non-null    int64  \n",
      " 1   offset                  295 non-null    float64\n",
      " 2   sex                     365 non-null    object \n",
      " 3   age                     368 non-null    float64\n",
      " 4   finding                 422 non-null    object \n",
      " 5   survival                138 non-null    object \n",
      " 6   intubated               95 non-null     object \n",
      " 7   intubation_present      106 non-null    object \n",
      " 8   went_icu                83 non-null     object \n",
      " 9   in_icu                  49 non-null     object \n",
      " 10  needed_supplemental_O2  12 non-null     object \n",
      " 11  extubated               23 non-null     object \n",
      " 12  temperature             37 non-null     float64\n",
      " 13  pO2_saturation          44 non-null     float64\n",
      " 14  leukocyte_count         12 non-null     float64\n",
      " 15  neutrophil_count        2 non-null      float64\n",
      " 16  lymphocyte_count        10 non-null     float64\n",
      " 17  view                    422 non-null    object \n",
      " 18  modality                422 non-null    object \n",
      " 19  date                    291 non-null    object \n",
      " 20  location                308 non-null    object \n",
      " 21  folder                  422 non-null    object \n",
      " 22  filename                422 non-null    object \n",
      " 23  doi                     104 non-null    object \n",
      " 24  url                     422 non-null    object \n",
      " 25  license                 260 non-null    object \n",
      " 26  clinical_notes          412 non-null    object \n",
      " 27  other_notes             238 non-null    object \n",
      " 28  Unnamed: 28             4 non-null      object \n",
      "dtypes: float64(7), int64(1), object(21)\n",
      "memory usage: 95.7+ KB\n"
     ]
    }
   ],
   "source": [
    "'''\n",
    "This notebook is used to retrieved images that show covid19 disease.\n",
    "* It use metadata.csv for searching the corresponding images name\n",
    "* Then copy the retrieved in an output folder \"../data/images_covid19\"\n",
    "'''\n",
    "\n",
    "import pandas as pd\n",
    "import os\n",
    "import shutil\n",
    "\n",
    "metadata_csv = pd.read_csv(\"../data/metadata.csv\")\n",
    "metadata_csv.info()"
   ]
  },
  {
   "cell_type": "code",
   "execution_count": 43,
   "metadata": {},
   "outputs": [],
   "source": [
    "imageDir = \"../data/images\" \n",
    "outputDir = \"../data/images_covid19\"\n",
    "\n",
    "# loop over the rows of the COVID-19 metadata\n",
    "for (i, row) in metadata_csv.iterrows():\n",
    "    if row[\"finding\"] != \"COVID-19\" or row[\"folder\"] != \"images\": # Virus to look for\n",
    "        continue\n",
    "\n",
    "    filename = row[\"filename\"].split(os.path.sep)[-1]\n",
    "    filePath = os.path.sep.join([imageDir, filename])\n",
    "    shutil.copy2(filePath, outputDir) # Output directory to store selected images"
   ]
  },
  {
   "cell_type": "code",
   "execution_count": null,
   "metadata": {},
   "outputs": [],
   "source": []
  }
 ],
 "metadata": {
  "kernelspec": {
   "display_name": "Python 3",
   "language": "python",
   "name": "python3"
  },
  "language_info": {
   "codemirror_mode": {
    "name": "ipython",
    "version": 3
   },
   "file_extension": ".py",
   "mimetype": "text/x-python",
   "name": "python",
   "nbconvert_exporter": "python",
   "pygments_lexer": "ipython3",
   "version": "3.6.10"
  },
  "toc": {
   "base_numbering": 1,
   "nav_menu": {},
   "number_sections": true,
   "sideBar": true,
   "skip_h1_title": false,
   "title_cell": "Table of Contents",
   "title_sidebar": "Contents",
   "toc_cell": false,
   "toc_position": {},
   "toc_section_display": true,
   "toc_window_display": false
  }
 },
 "nbformat": 4,
 "nbformat_minor": 4
}
